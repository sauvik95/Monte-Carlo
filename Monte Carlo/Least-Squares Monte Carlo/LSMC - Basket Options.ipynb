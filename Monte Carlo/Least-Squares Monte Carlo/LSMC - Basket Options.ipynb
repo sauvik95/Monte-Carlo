{
 "cells": [
  {
   "cell_type": "markdown",
   "id": "e8bea5c9",
   "metadata": {},
   "source": [
    "## Least-Squares Monte Carlo"
   ]
  },
  {
   "cell_type": "markdown",
   "id": "e4626dab",
   "metadata": {},
   "source": [
    "### Import libraries"
   ]
  },
  {
   "cell_type": "code",
   "execution_count": 1,
   "id": "81097130",
   "metadata": {},
   "outputs": [],
   "source": [
    "import numpy as np\n",
    "import pandas as pd\n",
    "from numpy.polynomial import laguerre"
   ]
  },
  {
   "cell_type": "markdown",
   "id": "936bd1a6",
   "metadata": {},
   "source": [
    "### 1. Monte-Carlo European Basket Call Option"
   ]
  },
  {
   "cell_type": "markdown",
   "id": "fa18472c",
   "metadata": {},
   "source": [
    "#### Input Parameters"
   ]
  },
  {
   "cell_type": "code",
   "execution_count": 2,
   "id": "4541b958",
   "metadata": {},
   "outputs": [],
   "source": [
    "r = 0.05\n",
    "delta = 0.02\n",
    "sigma = 0.3\n",
    "rho = 0.2\n",
    "N = 50000\n",
    "T = 1\n",
    "S0 = K = 100\n",
    "rho = np.array([[1,0.2,0.2],[0.2,1,0.2],[0.2,0.2,1]])"
   ]
  },
  {
   "cell_type": "markdown",
   "id": "1e25b896",
   "metadata": {},
   "source": [
    "#### Implement the Monte Carlo Method for European Basket Option"
   ]
  },
  {
   "cell_type": "code",
   "execution_count": 3,
   "id": "4f03dacc",
   "metadata": {},
   "outputs": [],
   "source": [
    "# Generate a (3, N) weiner process\n",
    "dW = np.random.randn(3, N)*np.sqrt(T)\n",
    "\n",
    "# Compute the Cholesky decomposition of the correlation matrix rho\n",
    "L = np.linalg.cholesky(rho)\n",
    "\n",
    "# Calculating stock price for 3 assets at final maturity for N simulations\n",
    "St = S0*np.exp((r-delta-0.5*sigma**2)*T + sigma*np.dot(L,dW))"
   ]
  },
  {
   "cell_type": "markdown",
   "id": "3bea15ca",
   "metadata": {},
   "source": [
    "#### Compute Weights\n",
    "\n",
    "$$\\lambda_t = \\frac{S_{t}}{\\sum_{i=1}^{3}S_{i,t}}$$"
   ]
  },
  {
   "cell_type": "code",
   "execution_count": 4,
   "id": "292e9fc1",
   "metadata": {},
   "outputs": [],
   "source": [
    "# Calculate capitalization weights and prices for each of the 3 assets\n",
    "total = np.sum(St, axis=0)\n",
    "lambda_ = St/total"
   ]
  },
  {
   "cell_type": "markdown",
   "id": "cf233492",
   "metadata": {},
   "source": [
    "#### Compute European Basket Option Price\n",
    "$$V_0 = \\mathbb{E}^{Q}[\\max\\left(\\sum_{i=1}^{3}\\lambda_iS_{i,T}-K,0\\right)]e^{-rT}$$"
   ]
  },
  {
   "cell_type": "code",
   "execution_count": 5,
   "id": "8211d0a8",
   "metadata": {},
   "outputs": [
    {
     "name": "stdout",
     "output_type": "stream",
     "text": [
      "European Basket Option Price for 3 Assets: 12.7426\n"
     ]
    }
   ],
   "source": [
    "# Calculate basket option price\n",
    "price_ = lambda_*St\n",
    "Basket = np.sum(price_, axis=0)\n",
    "payoff = np.maximum(Basket-K, 0)*np.exp(-r*T)\n",
    "Basket_Option_Price = np.mean(payoff)\n",
    "print(f\"European Basket Option Price for 3 Assets: {Basket_Option_Price:.4f}\")"
   ]
  },
  {
   "cell_type": "markdown",
   "id": "fabf6440",
   "metadata": {},
   "source": [
    "### 2. Least Squares Monte Carlo (Multi-Index & Ad-hoc) for Bermudan Basket Call Option"
   ]
  },
  {
   "cell_type": "markdown",
   "id": "8e0d5eab",
   "metadata": {},
   "source": [
    "#### Input Parameters"
   ]
  },
  {
   "cell_type": "code",
   "execution_count": 6,
   "id": "aabf20ae",
   "metadata": {},
   "outputs": [],
   "source": [
    "r1 = 0.05\n",
    "delta1 = [0.02, 0.02, 0.02]\n",
    "sigma1 = [0.3, 0.3, 0.3]\n",
    "rho1 = [[1.0, 0.2, 0.2], [0.2, 1.0, 0.2], [0.2, 0.2, 1.0]]\n",
    "S01 = 100\n",
    "K1 = 100.0\n",
    "T1 = 1.0\n",
    "N1 = 50000\n",
    "d1 = 10\n",
    "n1 = 12\n",
    "dt1 = T1/n1"
   ]
  },
  {
   "cell_type": "markdown",
   "id": "3e6fcae6",
   "metadata": {},
   "source": [
    "#### Simulate Stock Prices"
   ]
  },
  {
   "cell_type": "code",
   "execution_count": 7,
   "id": "a6c8a722",
   "metadata": {},
   "outputs": [],
   "source": [
    "# Generate standard normal random variables\n",
    "Z = np.random.normal(size=(n1, 3, N1))\n",
    "\n",
    "# Compute the Cholesky decomposition of the correlation matrix\n",
    "L1 = np.linalg.cholesky(rho1)\n",
    "\n",
    "# Initialise vector for stock prices\n",
    "S1 = np.zeros((n1+1, 3, N1))\n",
    "S1[0] = S01 # Set stock price at time 0 as S0\n",
    "\n",
    "# Simulate the asset prices using the geometric Brownian motion equation\n",
    "for i in range(1, n1+1):\n",
    "    dW1 = np.dot(L1, Z[i-1])\n",
    "    for j in range(3):\n",
    "        S1[i,j] = S1[i-1,j]*np.exp((r1-delta1[j]-0.5*sigma1[j]**2)*dt1 + sigma1[j]*np.sqrt(dt1)*dW1[j])"
   ]
  },
  {
   "cell_type": "markdown",
   "id": "67567d59",
   "metadata": {},
   "source": [
    "#### Compute Weighted Price of each asset"
   ]
  },
  {
   "cell_type": "code",
   "execution_count": 8,
   "id": "e11a8068",
   "metadata": {},
   "outputs": [],
   "source": [
    "# Compute the sum of S_squared along axis 1\n",
    "sum_S = np.sum(S1, axis=1)\n",
    "\n",
    "# Square all values in S\n",
    "S_squared = S1 ** 2\n",
    "\n",
    "# Divide S_squared by the sum_S_squared array using broadcasting\n",
    "S_T = (S_squared / sum_S[:, np.newaxis, :])"
   ]
  },
  {
   "cell_type": "markdown",
   "id": "6671f8ab",
   "metadata": {},
   "source": [
    "#### Function: Bermudan Call Option for Multi Index using LSMC"
   ]
  },
  {
   "cell_type": "code",
   "execution_count": 9,
   "id": "41a429e6",
   "metadata": {},
   "outputs": [],
   "source": [
    "def bermudan_call_LSMC_multi_index(K, S_t, S, T, r, n):\n",
    "    ## LSMC model parameters\n",
    "    dt = T / n           \n",
    "    df = np.exp(-r*dt)\n",
    "    d = 10               \n",
    "    \n",
    "    # Sum along axis 1 to get an array of shape (13, 50000)\n",
    "    S_T = np.sum(S_t, axis=1)\n",
    "    \n",
    "    ## Initialise arrays\n",
    "    payoff = np.maximum(S_T-K, 0)    \n",
    "    V = np.zeros_like(S_T)            \n",
    "    V[-1, :] = payoff[-1, :]         \n",
    "    \n",
    "    ## Iterate over time steps backwards\n",
    "    for t in range(n, 0, -1):        \n",
    "        V[t-1,:] = V[t,:] * df       \n",
    "        ind = payoff[t - 1,:] > 0    \n",
    "        \n",
    "        ## Create the polynomial basis matrix using Laguerre polynomials\n",
    "        psi = np.zeros((np.sum(ind),286))\n",
    "        l = 0\n",
    "        for i in range(d+1):\n",
    "            for j in range(d+1-i):\n",
    "                for k in range(d+1-i-j):\n",
    "                    p1 = laguerre.Laguerre.basis(i).coef\n",
    "                    p2 = laguerre.Laguerre.basis(j).coef\n",
    "                    p3 = laguerre.Laguerre.basis(k).coef\n",
    "                    psi[:,l] = laguerre.lagval(S[t-1,0,ind], p1)*laguerre.lagval(S[t-1,1,ind], p2)*laguerre.lagval(S[t-1,2,ind], p3)\n",
    "                    l = l+1\n",
    "        q_psi, r_psi = np.linalg.qr(psi)                 \n",
    "        b = q_psi.T @ V[t, ind] * df  \n",
    "        CV = q_psi @ b                \n",
    "        V[t - 1, ind] = np.maximum(CV, payoff[t-1, ind]) \n",
    "\n",
    "    return V "
   ]
  },
  {
   "cell_type": "markdown",
   "id": "72b4c89f",
   "metadata": {},
   "source": [
    "#### Function: Bermudan Call Option using Ad Hoc LSMC"
   ]
  },
  {
   "cell_type": "code",
   "execution_count": 10,
   "id": "6e96c6cb",
   "metadata": {},
   "outputs": [],
   "source": [
    "def bermudan_call_LSMC_ad_hoc(K, S, T, r, n):\n",
    "    ## LSMC model parameters\n",
    "    dt = T / n           \n",
    "    df = np.exp(-r*dt)   \n",
    "    d = 10               \n",
    "    \n",
    "    ## Initialise arrays\n",
    "    payoff = np.maximum(S-K, 0)    \n",
    "    V = np.zeros_like(S)             \n",
    "    V[-1, :] = payoff[-1, :]         \n",
    "    \n",
    "    ## Iterate over time steps backwards\n",
    "    for t in range(n, 0, -1):        \n",
    "        V[t-1,:] = V[t,:] * df       \n",
    "        ind = payoff[t - 1,:] > 0    \n",
    "        \n",
    "        ## Create the polynomial basis matrix using Laguerre polynomials\n",
    "        psi = np.zeros((np.sum(ind), d+1))\n",
    "        for i in range(d+1):\n",
    "            p = laguerre.Laguerre.basis(i).coef          \n",
    "            psi[:,i] = laguerre.lagval(S[t-1, ind], p)   \n",
    "        q_psi, r_psi = np.linalg.qr(psi)                 \n",
    "        b = q_psi.T @ V[t, ind] * df  \n",
    "        CV = q_psi @ b                \n",
    "  \n",
    "        # Set maximum of continuation value (CV) or payoff as the value of option at each node for current time step\n",
    "        V[t - 1, ind] = np.maximum(CV, payoff[t-1, ind]) \n",
    "\n",
    "    return V "
   ]
  },
  {
   "cell_type": "markdown",
   "id": "1743cc2b",
   "metadata": {},
   "source": [
    "#### Compute Multi-index LSMC Price"
   ]
  },
  {
   "cell_type": "code",
   "execution_count": 11,
   "id": "7a63feed",
   "metadata": {},
   "outputs": [
    {
     "name": "stdout",
     "output_type": "stream",
     "text": [
      "Bermudan Basket Option Price for Multi Index using LSMC : 12.9298\n"
     ]
    }
   ],
   "source": [
    "V_mi = bermudan_call_LSMC_multi_index(K1, S_T, S1, T1, r1, n1)\n",
    "print(f\"Bermudan Basket Option Price for Multi Index using LSMC : {V_mi[0,:].mean():.4f}\")"
   ]
  },
  {
   "cell_type": "markdown",
   "id": "aa8b9396",
   "metadata": {},
   "source": [
    "#### Weighted Prices for Ad-hoc"
   ]
  },
  {
   "cell_type": "code",
   "execution_count": 12,
   "id": "c6bf72d1",
   "metadata": {},
   "outputs": [],
   "source": [
    "numerator = np.sum(np.power(S1, 2), axis=1)\n",
    "denominator = np.sum(S1, axis=1)\n",
    "S_adhoc = numerator / denominator"
   ]
  },
  {
   "cell_type": "markdown",
   "id": "331b3e29",
   "metadata": {},
   "source": [
    "#### Compute Ad-hoc LSMC Price"
   ]
  },
  {
   "cell_type": "code",
   "execution_count": 13,
   "id": "fe752b04",
   "metadata": {},
   "outputs": [
    {
     "name": "stdout",
     "output_type": "stream",
     "text": [
      "Bermudan Basket Option Price using ad-hoc LSMC : 12.8187\n"
     ]
    }
   ],
   "source": [
    "V_adhoc = bermudan_call_LSMC_ad_hoc(K1, S_adhoc, T1, r1, n1)\n",
    "print(f\"Bermudan Basket Option Price using ad-hoc LSMC : {V_adhoc[0,:].mean():.4f}\")"
   ]
  },
  {
   "cell_type": "markdown",
   "id": "1e840009",
   "metadata": {},
   "source": [
    "#### Results"
   ]
  },
  {
   "cell_type": "code",
   "execution_count": 14,
   "id": "713b726e",
   "metadata": {},
   "outputs": [
    {
     "data": {
      "text/html": [
       "<div>\n",
       "<style scoped>\n",
       "    .dataframe tbody tr th:only-of-type {\n",
       "        vertical-align: middle;\n",
       "    }\n",
       "\n",
       "    .dataframe tbody tr th {\n",
       "        vertical-align: top;\n",
       "    }\n",
       "\n",
       "    .dataframe thead th {\n",
       "        text-align: right;\n",
       "    }\n",
       "</style>\n",
       "<table border=\"1\" class=\"dataframe\">\n",
       "  <thead>\n",
       "    <tr style=\"text-align: right;\">\n",
       "      <th></th>\n",
       "      <th>European Call MC</th>\n",
       "      <th>LSMC Multi-Index Bermudan</th>\n",
       "      <th>Ad-hoc LSMC Bermudan</th>\n",
       "    </tr>\n",
       "  </thead>\n",
       "  <tbody>\n",
       "    <tr>\n",
       "      <th></th>\n",
       "      <td>12.7426</td>\n",
       "      <td>12.9298</td>\n",
       "      <td>12.8187</td>\n",
       "    </tr>\n",
       "  </tbody>\n",
       "</table>\n",
       "</div>"
      ],
      "text/plain": [
       " European Call MC LSMC Multi-Index Bermudan Ad-hoc LSMC Bermudan\n",
       "          12.7426                   12.9298              12.8187"
      ]
     },
     "execution_count": 14,
     "metadata": {},
     "output_type": "execute_result"
    }
   ],
   "source": [
    "data = {'European Call MC': [f\"{Basket_Option_Price:.4f}\"],\n",
    "        'LSMC Multi-Index Bermudan': [f\"{V_mi[0,:].mean():.4f}\"],\n",
    "        'Ad-hoc LSMC Bermudan': [f\"{V_adhoc[0,:].mean():.4f}\"]}\n",
    "\n",
    "Prices_Table = pd.DataFrame(data)\n",
    "\n",
    "# Set the index to an empty list\n",
    "Prices_Table.index = ['']\n",
    "\n",
    "# Print the DataFrame\n",
    "Prices_Table"
   ]
  },
  {
   "cell_type": "markdown",
   "id": "27ce3b98",
   "metadata": {},
   "source": [
    "### Conclusion"
   ]
  },
  {
   "cell_type": "markdown",
   "id": "09840519",
   "metadata": {},
   "source": [
    "The Bermudan LSMC Price is higher than both european call option and ad-hoc LSMC Bermudan Option. The Bermudan option can be exercised early at any of the 12 time steps hence adding early exercise premium to it's price. The ad-hoc LSMC gives a rough estimate of Bermudan Option but computation time is much faster."
   ]
  }
 ],
 "metadata": {
  "kernelspec": {
   "display_name": "Python 3 (ipykernel)",
   "language": "python",
   "name": "python3"
  },
  "language_info": {
   "codemirror_mode": {
    "name": "ipython",
    "version": 3
   },
   "file_extension": ".py",
   "mimetype": "text/x-python",
   "name": "python",
   "nbconvert_exporter": "python",
   "pygments_lexer": "ipython3",
   "version": "3.9.13"
  }
 },
 "nbformat": 4,
 "nbformat_minor": 5
}
