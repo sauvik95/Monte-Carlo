{
 "cells": [
  {
   "cell_type": "markdown",
   "id": "199bfce7",
   "metadata": {},
   "source": [
    "## CIR Process and Laguerre Polynomials"
   ]
  },
  {
   "cell_type": "markdown",
   "id": "c2c436d3",
   "metadata": {},
   "source": [
    "### Import Libraries"
   ]
  },
  {
   "cell_type": "code",
   "execution_count": 1,
   "id": "3ca1f8c9",
   "metadata": {},
   "outputs": [],
   "source": [
    "import numpy as np\n",
    "import pandas as pd\n",
    "from scipy.special import factorial\n",
    "from scipy.stats import gamma\n",
    "import sympy\n",
    "import time\n",
    "import matplotlib.pyplot as plt"
   ]
  },
  {
   "cell_type": "markdown",
   "id": "6a5273de",
   "metadata": {},
   "source": [
    "### Functions"
   ]
  },
  {
   "cell_type": "markdown",
   "id": "b1142855",
   "metadata": {},
   "source": [
    "#### Function 1: gLaguerre"
   ]
  },
  {
   "cell_type": "code",
   "execution_count": 2,
   "id": "10a86773",
   "metadata": {},
   "outputs": [],
   "source": [
    "def gLaguerre(n, z, a):\n",
    "    x = sympy.Symbol('x')\n",
    "    if n == 0:\n",
    "        L = 1\n",
    "        return L\n",
    "    else:\n",
    "        F = sympy.exp(x) * x**(-a) * sympy.diff(sympy.exp(-x) * x**(n+a), x, n) / factorial(n)\n",
    "    \n",
    "    # Convert F(x) to a polynomial\n",
    "    C = F.as_poly()  #.all_coeffs\n",
    "    \n",
    "    # Convert the symbolic coefficients to a function for numerical evaluation\n",
    "    coeffs = C.all_coeffs()\n",
    "    \n",
    "    # Evaluate the polynomial at z\n",
    "    L = np.polyval(coeffs, z)\n",
    "    \n",
    "    return L"
   ]
  },
  {
   "cell_type": "markdown",
   "id": "7b2a121c",
   "metadata": {},
   "source": [
    "### Input Parameters"
   ]
  },
  {
   "cell_type": "code",
   "execution_count": 3,
   "id": "d6bd0e06",
   "metadata": {},
   "outputs": [],
   "source": [
    "alpha = 4\n",
    "epsilon = [1,0.001]\n",
    "dt = 1/252\n",
    "num_states = 1000\n",
    "num_steps = 10000\n",
    "kmax = 21"
   ]
  },
  {
   "cell_type": "markdown",
   "id": "84ae7bc9",
   "metadata": {},
   "source": [
    "### Part 1: CIR Process"
   ]
  },
  {
   "cell_type": "code",
   "execution_count": 4,
   "id": "09ae8cff",
   "metadata": {},
   "outputs": [],
   "source": [
    "c = np.ones(21)     ### Computing Ck values\n",
    "for i in range(1,21):\n",
    "    c[i] = c[i-1]*i/(i+alpha)\n",
    "\n",
    "# Generate 1000 independent gamma random numbers\n",
    "z_vals = np.random.gamma(alpha+1, 1, num_states)"
   ]
  },
  {
   "cell_type": "code",
   "execution_count": 5,
   "id": "fe966a8c",
   "metadata": {},
   "outputs": [
    {
     "name": "stdout",
     "output_type": "stream",
     "text": [
      "Time required:  182.31288290023804\n"
     ]
    }
   ],
   "source": [
    "psi = np.ones([num_states,kmax])\n",
    "start = time.time()\n",
    "for i in range(num_states):\n",
    "    for j in range(kmax):\n",
    "        psi[i][j] = gLaguerre(j, z_vals[i], alpha)\n",
    "end = time.time()\n",
    "print(\"Time required: \",end-start)"
   ]
  },
  {
   "cell_type": "code",
   "execution_count": 6,
   "id": "cede5049",
   "metadata": {},
   "outputs": [
    {
     "name": "stdout",
     "output_type": "stream",
     "text": [
      "Time required:  75.04947280883789\n"
     ]
    }
   ],
   "source": [
    "# Compute transition matrix\n",
    "start1 = time.time()\n",
    "P = np.zeros((num_states, num_states,2))\n",
    "for i in range(num_states):\n",
    "    start = time.time()\n",
    "    for j in range(num_states):\n",
    "        P[i,j,0] = np.maximum(np.sum([c[k]*np.exp(-k*dt/epsilon[0])*psi[i][k]*psi[j][k] for k in range(21)]),0)\n",
    "        P[i,j,1] = np.maximum(np.sum([c[k]*np.exp(-k*dt/epsilon[1])*psi[i][k]*psi[j][k] for k in range(21)]),0)\n",
    "    P[i,:,0] = P[i,:,0] / np.sum(P[i,:,0])\n",
    "    P[i,:,1] = P[i,:,1] / np.sum(P[i,:,1])\n",
    "end1 = time.time()\n",
    "print(\"Time required: \",end1-start1)"
   ]
  },
  {
   "cell_type": "code",
   "execution_count": 7,
   "id": "6d511be5",
   "metadata": {},
   "outputs": [],
   "source": [
    "# Simulate sample path\n",
    "z = np.zeros((num_steps,2))\n",
    "z[0,:] = z_vals[np.random.randint(num_states)]\n",
    "for i in range(1, num_steps):\n",
    "    z[i,0] = z_vals[np.random.choice(num_states, p=P[np.where(z[i-1,0]==z_vals),:,0].flatten())]\n",
    "    z[i,1] = z_vals[np.random.choice(num_states, p=P[np.where(z[i-1,1]==z_vals),:,1].flatten())]"
   ]
  },
  {
   "cell_type": "code",
   "execution_count": 8,
   "id": "79b3cb65",
   "metadata": {},
   "outputs": [],
   "source": [
    "# Compute empirical CDF and true CDF\n",
    "F_hat = np.zeros((num_steps,2))\n",
    "for i in range(num_steps):\n",
    "    mask0 = z[:,0] < z[i,0]\n",
    "    mask1 = z[:,1] < z[i,1]\n",
    "    F_hat[i,0] = np.count_nonzero(mask0)\n",
    "    F_hat[i,1] = np.count_nonzero(mask1)\n",
    "\n",
    "F_hat = F_hat/num_steps\n",
    "\n",
    "# Generate a fine grid of points\n",
    "z_fine0 = np.linspace(0, np.max(z[:,0]), num=1000)\n",
    "z_fine1 = np.linspace(0, np.max(z[:,1]), num=1000)\n",
    "\n",
    "# Compute true CDF on the fine grid\n",
    "F_true_fine0 = gamma.cdf(z_fine0, alpha+1, 1)\n",
    "F_true_fine1 = gamma.cdf(z_fine1, alpha+1, 1)\n",
    "\n",
    "\n",
    "# Sort the data for plotting\n",
    "sort_inds0 = np.argsort(z[:,0])\n",
    "z_sorted0 = z[:,0][sort_inds0]\n",
    "F_hat_sorted0 = F_hat[:,0][sort_inds0]\n",
    "\n",
    "sort_inds1 = np.argsort(z[:,1])\n",
    "z_sorted1 = z[:,1][sort_inds1]\n",
    "F_hat_sorted1 = F_hat[:,1][sort_inds1]"
   ]
  },
  {
   "cell_type": "markdown",
   "id": "b7bfa4b0",
   "metadata": {},
   "source": [
    "### Part 2: CIR Process with implicit scheme"
   ]
  },
  {
   "cell_type": "code",
   "execution_count": 9,
   "id": "55b831e8",
   "metadata": {},
   "outputs": [],
   "source": [
    "Z_implicit = np.zeros((num_steps,2))\n",
    "Z_implicit[0,:] = np.random.gamma(alpha+1, 1)\n",
    "\n",
    "for i in range(1,num_steps):\n",
    "    \n",
    "    dW0 = np.random.randn()*np.sqrt(dt)\n",
    "    a0 = 1 + dt/epsilon[0]\n",
    "    b0 = -np.sqrt(2)*dW0/np.sqrt(epsilon[0])\n",
    "    c0 = -Z_implicit[i-1,0] - alpha*dt/epsilon[0]\n",
    "    \n",
    "    Z_implicit[i,0] = ((- b0 + np.sqrt((b0**2)-4*a0*c0))/(2*a0))**2\n",
    "    \n",
    "    dW1 = np.random.randn()*np.sqrt(dt)\n",
    "    a1 = 1 + dt/epsilon[1]\n",
    "    b1 = -np.sqrt(2)*dW1/np.sqrt(epsilon[1])\n",
    "    c1 = -Z_implicit[i-1,1] - alpha*dt/epsilon[1]\n",
    "    \n",
    "    Z_implicit[i,1] = ((- b1 + np.sqrt((b1**2)-4*a1*c1))/(2*a1))**2\n",
    "    \n",
    "F_hat1 = np.zeros((num_steps,2))\n",
    "\n",
    "for i in range(num_steps):\n",
    "    mask0 = Z_implicit[:,0] < Z_implicit[i,0]\n",
    "    F_hat1[i,0] = np.count_nonzero(mask0)\n",
    "    \n",
    "    mask1 = Z_implicit[:,1] < Z_implicit[i,1]\n",
    "    F_hat1[i,1] = np.count_nonzero(mask1)\n",
    "    \n",
    "F_hat1[:,0] = F_hat1[:,0]/num_steps\n",
    "F_hat1[:,1] = F_hat1[:,1]/num_steps\n",
    "\n",
    "\n",
    "sorted_indices0 = np.argsort(F_hat1[:,0])\n",
    "Z_implicit_sorted0 = Z_implicit[:,0][sorted_indices0]\n",
    "F_hat1_sorted0 = F_hat1[:,0][sorted_indices0]\n",
    "\n",
    "sorted_indices1 = np.argsort(F_hat1[:,1])\n",
    "Z_implicit_sorted1 = Z_implicit[:,1][sorted_indices1]\n",
    "F_hat1_sorted1 = F_hat1[:,1][sorted_indices1]"
   ]
  },
  {
   "cell_type": "markdown",
   "id": "78c12116",
   "metadata": {},
   "source": [
    "### Plot Results"
   ]
  },
  {
   "cell_type": "code",
   "execution_count": 10,
   "id": "23b88373",
   "metadata": {},
   "outputs": [
    {
     "data": {
      "image/png": "[encoded data removed]",
      "text/plain": [
       "<Figure size 432x288 with 1 Axes>"
      ]
     },
     "metadata": {
      "needs_background": "light"
     },
     "output_type": "display_data"
    },
    {
     "data": {
      "image/png": "[encoded data removed]",
      "text/plain": [
       "<Figure size 432x288 with 1 Axes>"
      ]
     },
     "metadata": {
      "needs_background": "light"
     },
     "output_type": "display_data"
    }
   ],
   "source": [
    "# Plot CDFs\n",
    "\n",
    "plt.plot(z_sorted0, F_hat_sorted0, 'b-', linewidth=0.5)\n",
    "plt.plot(z_fine0, F_true_fine0, 'r--', linewidth=0.5)\n",
    "plt.plot(Z_implicit_sorted0, F_hat1_sorted0, 'g--', linewidth=0.5)\n",
    "plt.xlabel('z')\n",
    "plt.ylabel('CDF')\n",
    "plt.legend(['Empirical', 'True','Implicit'])\n",
    "plt.title('Epsilon: 1')\n",
    "plt.show()\n",
    "\n",
    "# Plot CDFs\n",
    "\n",
    "plt.plot(z_sorted1, F_hat_sorted1, 'b-', linewidth=0.5)\n",
    "plt.plot(z_fine1, F_true_fine1, 'r--', linewidth=0.5)\n",
    "plt.plot(Z_implicit_sorted1, F_hat1_sorted1, 'g--', linewidth=0.5)\n",
    "plt.xlabel('z')\n",
    "plt.ylabel('CDF')\n",
    "plt.legend(['Empirical', 'True','Implicit'])\n",
    "plt.title('Epsilon: 10^-3')\n",
    "plt.show()"
   ]
  },
  {
   "cell_type": "markdown",
   "id": "d2a5879d",
   "metadata": {},
   "source": [
    "### Conclusion"
   ]
  },
  {
   "cell_type": "markdown",
   "id": "220f3b44",
   "metadata": {},
   "source": [
    "The CDF of epsilon = 10^-3 has a greater slope as compared to epsilon = 1. The CDF of smaller epsilon increases at a faster rate wrt z and the CDF remains near 0 and 1 for more values of z compared to larger epsilon value."
   ]
  }
 ],
 "metadata": {
  "kernelspec": {
   "display_name": "Python 3 (ipykernel)",
   "language": "python",
   "name": "python3"
  },
  "language_info": {
   "codemirror_mode": {
    "name": "ipython",
    "version": 3
   },
   "file_extension": ".py",
   "mimetype": "text/x-python",
   "name": "python",
   "nbconvert_exporter": "python",
   "pygments_lexer": "ipython3",
   "version": "3.9.13"
  }
 },
 "nbformat": 4,
 "nbformat_minor": 5
}
